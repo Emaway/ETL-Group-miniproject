{
 "cells": [
  {
   "cell_type": "code",
   "execution_count": null,
   "metadata": {},
   "outputs": [],
   "source": [
    "from requests import async\n",
    "# If using requests > v0.13.0, use\n",
    "# from grequests import async\n",
    "\n",
    "urls = [\n",
    "    'http://python-requests.org',\n",
    "    'http://httpbin.org',\n",
    "    'http://python-guide.org',\n",
    "    'http://kennethreitz.com'\n",
    "]\n",
    "\n",
    "# A simple task to do to each response object\n",
    "def do_something(response):\n",
    "    print response.url\n",
    "\n",
    "# A list to hold our things to do via async\n",
    "async_list = []\n",
    "\n",
    "for u in urls:\n",
    "    # The \"hooks = {...\" part is where you define what you want to do\n",
    "    # \n",
    "    # Note the lack of parentheses following do_something, this is\n",
    "    # because the response will be used as the first argument automatically\n",
    "    action_item = async.get(u, hooks = {'response' : do_something})\n",
    "\n",
    "    # Add the task to our list of things to do via async\n",
    "    async_list.append(action_item)\n",
    "\n",
    "# Do our list of things to do via async\n",
    "async.map(async_list)"
   ]
  },
  {
   "cell_type": "code",
   "execution_count": null,
   "metadata": {},
   "outputs": [],
   "source": []
  }
 ],
 "metadata": {
  "kernelspec": {
   "display_name": "Python 3",
   "language": "python",
   "name": "python3"
  },
  "language_info": {
   "codemirror_mode": {
    "name": "ipython",
    "version": 3
   },
   "file_extension": ".py",
   "mimetype": "text/x-python",
   "name": "python",
   "nbconvert_exporter": "python",
   "pygments_lexer": "ipython3",
   "version": "3.7.1"
  }
 },
 "nbformat": 4,
 "nbformat_minor": 2
}
